{
 "cells": [
  {
   "cell_type": "markdown",
   "id": "d9cd0d4a",
   "metadata": {},
   "source": [
    "# NAGA MOUNICA POTLURI\n",
    "![Headshot](Photo.jpeg)\n",
    "\n"
   ]
  },
  {
   "cell_type": "markdown",
   "id": "254c3ceb",
   "metadata": {},
   "source": [
    "## Education\n",
    "\n",
    "- **Master's - in Data science --- December 2023** \n",
    "- University of Maryland Baltimore County, GPA - 3.5/4.0   \t\t\t                        UMBC, MD.\n",
    "- **BACHELOR OF TECHNOLOGY, COMPUTER SCIENCE ENGINEERING**\tJun 2015 - Jun 2019!\n",
    "- Gandhi Institute of Technology and Management. GPA- 7.85/10                             Visakhapatnam, India."
   ]
  },
  {
   "cell_type": "markdown",
   "id": "5ca7c19c",
   "metadata": {},
   "source": [
    "## SKILLS\n",
    "- Programming Languages: C, C++, Python, HTML, CSS, Java Script\n",
    "- Microsoft office: Word, Excel, Power Point.\n",
    "- SQL, \n",
    "- Internet of Things\n",
    "- Data Warehousing, Big Data."
   ]
  },
  {
   "cell_type": "markdown",
   "id": "6af10522",
   "metadata": {},
   "source": [
    "## Certification:\n",
    "- Certification of Participation in Annual Fests conducted by CSI Student Chapter & Association for Computing Machinery Student Chapter.\n",
    "- National Service Scheme (NSS) unit best volunteer – 2018."
   ]
  },
  {
   "cell_type": "markdown",
   "id": "da4b5a60",
   "metadata": {},
   "source": [
    "## Work Experience"
   ]
  },
  {
   "cell_type": "markdown",
   "id": "91a22315",
   "metadata": {},
   "source": [
    "**INTERNSHIP\n",
    "CONDUIRA, VISAKHAPATNAM\tFeb 2017- April 2017**\n",
    "- I worked on one project which we named as Online Shopping portal PHP Technology.\n",
    "- The basic concept of the application is to allow customers to shop virtually using internet to buy products.\n",
    "- The aim of this application is to reduce the manual effort needed to manage transactions and historical data used in various good owns. \n"
   ]
  },
  {
   "cell_type": "markdown",
   "id": "2fa23e5a",
   "metadata": {},
   "source": [
    "## LEADERSHIP\n",
    "- Unit Coordinator\n",
    "- National Service Scheme\tFeb 2017 – Feb 2018\n",
    "- Volunteered a 6-day awareness program in a government school at Madhurwada.\n",
    "- Initiated and organized many events for the Swatch Bharat area clean up drives.\n",
    "- Raised relief funds of over 4 lakhs for the flood relief fund.\n"
   ]
  },
  {
   "cell_type": "markdown",
   "id": "9f3b5834",
   "metadata": {},
   "source": [
    "## Projects\n"
   ]
  },
  {
   "cell_type": "markdown",
   "id": "8c8dcb58",
   "metadata": {},
   "source": [
    "- Montgomery County Employees Salary Analysis for 2019, 2020 & 2021"
   ]
  },
  {
   "cell_type": "markdown",
   "id": "0a1a4193",
   "metadata": {},
   "source": [
    "\n",
    "## Contact Information\n",
    "- Email: npotlur1@umbc.edu\n",
    "- Contact: +1 (240)789 8067\n",
    "- GitHub: @Mounica.\n",
    "\n"
   ]
  },
  {
   "cell_type": "code",
   "execution_count": null,
   "id": "6696a4e7",
   "metadata": {},
   "outputs": [],
   "source": []
  }
 ],
 "metadata": {
  "kernelspec": {
   "display_name": "Python 3 (ipykernel)",
   "language": "python",
   "name": "python3"
  },
  "language_info": {
   "codemirror_mode": {
    "name": "ipython",
    "version": 3
   },
   "file_extension": ".py",
   "mimetype": "text/x-python",
   "name": "python",
   "nbconvert_exporter": "python",
   "pygments_lexer": "ipython3",
   "version": "3.9.7"
  }
 },
 "nbformat": 4,
 "nbformat_minor": 5
}
